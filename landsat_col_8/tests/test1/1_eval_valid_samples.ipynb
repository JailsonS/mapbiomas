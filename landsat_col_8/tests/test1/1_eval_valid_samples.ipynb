{
 "cells": [
  {
   "attachments": {},
   "cell_type": "markdown",
   "metadata": {},
   "source": [
    "### Import libs"
   ]
  },
  {
   "cell_type": "code",
   "execution_count": 1,
   "metadata": {},
   "outputs": [],
   "source": [
    "import sys, os\n",
    "import ee\n",
    "import pandas as pd\n",
    "\n",
    "sys.path.append(os.path.abspath('../../'))\n",
    "\n",
    "from utils.index import getFractions, getNdfi\n",
    "\n",
    "ee.Initialize()"
   ]
  },
  {
   "attachments": {},
   "cell_type": "markdown",
   "metadata": {},
   "source": [
    "### Config data"
   ]
  },
  {
   "cell_type": "code",
   "execution_count": 2,
   "metadata": {},
   "outputs": [],
   "source": [
    "\n",
    "YEAR = '2022'\n",
    "\n",
    "ASSET_TRAIN_SAMPLES = 'projects/imazon-simex/LULC/COLLECTION8/SAMPLES/lapig_samples_w_edge_and_edited_amazonia_v1_train'\n",
    "\n",
    "ASSET_PR = 'projects/mapbiomas-workspace/AUXILIAR/landsat-scenes'\n",
    "ASSET_BIOMES = 'projects/mapbiomas-workspace/AUXILIAR/biomas-2019'\n",
    "\n",
    "TEST_PR = [\n",
    "  \"225060\",\n",
    "  \"224060\",\n",
    "  \"228061\",\n",
    "  \"223062\",\n",
    "  \"227062\",\n",
    "  \"224066\",\n",
    "  \"225066\",\n",
    "  \"224068\",\n",
    "  \"231069\",\n",
    "  \"230069\"\n",
    "]\n",
    "\n",
    "BANDS = ['SR_B2', 'SR_B3', 'SR_B4', 'SR_B5', 'SR_B6', 'SR_B7', 'QA_PIXEL', 'ST_B10']\n",
    "NEW_BAND_NAMES = ['blue','green','red','nir','swir1','swir2','pixel_qa','tir']\n",
    "\n",
    "# 27 de fevereiro nova versão sentinel integração"
   ]
  },
  {
   "attachments": {},
   "cell_type": "markdown",
   "metadata": {},
   "source": [
    "### Auxiliar functions"
   ]
  },
  {
   "cell_type": "code",
   "execution_count": 3,
   "metadata": {},
   "outputs": [],
   "source": [
    "def applyScaleFactorsL5L7(image: ee.image.Image) -> ee.image.Image:\n",
    "    pass\n",
    "\n",
    "def applyScaleFactorsL8L9(image: ee.image.Image) -> ee.image.Image:\n",
    "    opticalBands = image.select('SR_B.').multiply(0.0000275).add(-0.2)\n",
    "    thermalBands = image.select('ST_B.*').multiply(0.00341802).add(149.0)\n",
    "    return image.addBands(opticalBands, None, True)\\\n",
    "                .addBands(thermalBands, None, True)\n",
    "\n",
    "def removeCloudShadow(image: ee.image.Image) -> ee.image.Image:\n",
    "  \n",
    "    cloudThreshould = image.select('cloud').lt(0.23)\n",
    "    \n",
    "    qa = image.select('pixel_qa')\n",
    "    \n",
    "    cloudBitMask = 1 << 4\n",
    "    shadeBitMask = 1 << 3\n",
    "    \n",
    "    mask = qa.bitwiseAnd(cloudBitMask).eq(0).And(qa.bitwiseAnd(shadeBitMask).eq(0))\n",
    "    \n",
    "    return image.mask(cloudThreshould).mask(mask)\n"
   ]
  },
  {
   "attachments": {},
   "cell_type": "markdown",
   "metadata": {},
   "source": [
    "### process data"
   ]
  },
  {
   "cell_type": "code",
   "execution_count": 4,
   "metadata": {},
   "outputs": [],
   "source": [
    "amzBiome = ee.FeatureCollection(ASSET_BIOMES)\\\n",
    "    .filter('Bioma == \"Amazônia\"')\n",
    "\n",
    "samplesDataset = ee.FeatureCollection(ASSET_TRAIN_SAMPLES)\n",
    "\n",
    "def extractSamplesByPr(pr):\n",
    "\n",
    "    region = ee.FeatureCollection(ASSET_PR).filter('PR == \"' + pr + '\"')\n",
    "    \n",
    "    center = ee.Feature(region.first()).centroid()\n",
    "\n",
    "    col8 = (ee.ImageCollection('LANDSAT/LC08/C02/T1_L2')\n",
    "        .filterBounds(center.geometry())\n",
    "        .filterDate(YEAR + '-01-01', YEAR + '-12-30')\n",
    "        .filter('CLOUD_COVER <= 50')\n",
    "        .map(lambda image: image.set('sensor', 'L8'))\n",
    "        .map(applyScaleFactorsL8L9)\n",
    "        .select(BANDS, NEW_BAND_NAMES)\n",
    "        .map(getFractions)\n",
    "        .map(getNdfi)\n",
    "    )\n",
    "\n",
    "    col9 = (ee.ImageCollection('LANDSAT/LC09/C02/T1_L2')\n",
    "        .filterBounds(center.geometry())\n",
    "        .filterDate(YEAR + '-01-01', YEAR + '-12-30')\n",
    "        .filter('CLOUD_COVER <= 50')\n",
    "        .map(lambda image: image.set('sensor', 'L8'))\n",
    "        .map(applyScaleFactorsL8L9)\n",
    "        .select(BANDS, NEW_BAND_NAMES)\n",
    "        .map(getFractions)\n",
    "        .map(getNdfi)\n",
    "    )\n",
    "\n",
    "    collection = col8.merge(col9).map(removeCloudShadow)\n",
    "\n",
    "    listIdScene = collection.reduceColumns(ee.Reducer.toList(), ['LANDSAT_SCENE_ID']).get('list').getInfo()\n",
    "    listSceneData = []\n",
    "\n",
    "    for idScene in listIdScene:\n",
    "\n",
    "        currentScene = ee.Image(collection.filter(ee.Filter.eq('LANDSAT_SCENE_ID', idScene)).first())\n",
    "\n",
    "        sampleValues = currentScene.sampleRegions(\n",
    "            collection=samplesDataset,  \n",
    "            scale=30, \n",
    "            geometries=True\n",
    "        )\n",
    "\n",
    "        sampleValues = sampleValues.map(lambda feat: feat.set('LANDSAT_SCENE_ID', idScene))\n",
    "\n",
    "        listSceneData.append(sampleValues)\n",
    "\n",
    "    datasetSampleValues = ee.FeatureCollection(listSceneData).flatten()\n",
    "\n",
    "    datasetSampleValues.map(lambda feat: feat.set('PR', pr))\n",
    "\n",
    "    return datasetSampleValues\n",
    "\n",
    "\n",
    "\n",
    "mapPr = map(lambda pr: extractSamplesByPr(pr), TEST_PR)\n",
    "\n",
    "dataset = ee.FeatureCollection(list(mapPr)).flatten()\n",
    "\n",
    "descriptionTest = 'lapig_samples_w_edge_amazonia_v1_test1'\n",
    "\n",
    "task = ee.batch.Export.table.toDrive(\n",
    "    description=descriptionTest,\n",
    "    collection=dataset,\n",
    "    fileFormat='CSV'\n",
    ")\n",
    "\n",
    "task.start()"
   ]
  }
 ],
 "metadata": {
  "kernelspec": {
   "display_name": "base",
   "language": "python",
   "name": "python3"
  },
  "language_info": {
   "codemirror_mode": {
    "name": "ipython",
    "version": 3
   },
   "file_extension": ".py",
   "mimetype": "text/x-python",
   "name": "python",
   "nbconvert_exporter": "python",
   "pygments_lexer": "ipython3",
   "version": "3.9.7"
  },
  "orig_nbformat": 4,
  "vscode": {
   "interpreter": {
    "hash": "0f0549d6a3eda86a6903b9587600f02ab66d3676fcaeadf57736dd1c94880b9a"
   }
  }
 },
 "nbformat": 4,
 "nbformat_minor": 2
}
