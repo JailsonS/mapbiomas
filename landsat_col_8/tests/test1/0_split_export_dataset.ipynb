{
 "cells": [
  {
   "attachments": {},
   "cell_type": "markdown",
   "metadata": {},
   "source": [
    "### Import libs"
   ]
  },
  {
   "cell_type": "code",
   "execution_count": 1,
   "metadata": {},
   "outputs": [],
   "source": [
    "import ee\n",
    "\n",
    "ee.Initialize()"
   ]
  },
  {
   "attachments": {},
   "cell_type": "markdown",
   "metadata": {},
   "source": [
    "### Config section"
   ]
  },
  {
   "cell_type": "code",
   "execution_count": 2,
   "metadata": {},
   "outputs": [],
   "source": [
    "# assets\n",
    "ASSET_LAPIG_SAMPLES = 'projects/mapbiomas-workspace/VALIDACAO/mapbiomas_85k_col2_points_w_edge_and_edited_amazonia_v1'\n",
    "ASSET_SPLITED_SAMPLES = 'projects/imazon-simex/LULC/COLLECTION8/SAMPLES'\n",
    "\n",
    "# proportion dataset\n",
    "SPLIT = 0.7\n",
    "\n",
    "# TODO: Create document to describe standart procedure to process\n",
    "#       and store samples data"
   ]
  },
  {
   "attachments": {},
   "cell_type": "markdown",
   "metadata": {},
   "source": [
    "### input data"
   ]
  },
  {
   "cell_type": "code",
   "execution_count": 4,
   "metadata": {},
   "outputs": [],
   "source": [
    "datasetSamples = ee.FeatureCollection(ASSET_LAPIG_SAMPLES)\\\n",
    "    .filter('BIOMA == \"Amazônia\"')\n",
    "\n",
    "\n",
    "\n",
    "# datasetSamples.size().getInfo() | n_samples: 32972(100%) | 23080.3(70%)"
   ]
  },
  {
   "attachments": {},
   "cell_type": "markdown",
   "metadata": {},
   "source": [
    "### Split and export dataset"
   ]
  },
  {
   "cell_type": "code",
   "execution_count": 6,
   "metadata": {},
   "outputs": [],
   "source": [
    "# shuffle dataset\n",
    "datasetSamplesShuffled = datasetSamples.randomColumn('random')\n",
    "\n",
    "# split dataset\n",
    "trainDataset = datasetSamplesShuffled.filter('random >= {}'.format(SPLIT))\n",
    "testDataset = datasetSamplesShuffled.filter('random < {}'.format(SPLIT))\n",
    "\n",
    "descriptionTrain = 'lapig_samples_w_edge_and_edited_amazonia_v1_train'\n",
    "descriptionTest = 'lapig_samples_w_edge_and_edited_amazonia_v1_test'\n",
    "\n",
    "\n",
    "# export dataset\n",
    "taskTrain = ee.batch.Export.table.toAsset(\n",
    "    description=descriptionTrain,\n",
    "    assetId= '{}/{}'.format(ASSET_SPLITED_SAMPLES, descriptionTrain),\n",
    "    collection=trainDataset\n",
    ")\n",
    "\n",
    "taskTest = ee.batch.Export.table.toAsset(\n",
    "    description=descriptionTest,\n",
    "    assetId= '{}/{}'.format(ASSET_SPLITED_SAMPLES, descriptionTest),\n",
    "    collection=testDataset\n",
    ")\n",
    "\n",
    "taskTrain.start()\n",
    "taskTest.start()\n",
    "\n",
    "# trainCount = trainDataset.size().getInfo() # 9969\n",
    "# testCount = testDataset.size().getInfo() # 23003\n"
   ]
  }
 ],
 "metadata": {
  "kernelspec": {
   "display_name": "Python 3",
   "language": "python",
   "name": "python3"
  },
  "language_info": {
   "codemirror_mode": {
    "name": "ipython",
    "version": 3
   },
   "file_extension": ".py",
   "mimetype": "text/x-python",
   "name": "python",
   "nbconvert_exporter": "python",
   "pygments_lexer": "ipython3",
   "version": "3.10.6 (main, Nov 14 2022, 16:10:14) [GCC 11.3.0]"
  },
  "orig_nbformat": 4,
  "vscode": {
   "interpreter": {
    "hash": "916dbcbb3f70747c44a77c7bcd40155683ae19c65e1c03b4aa3499c5328201f1"
   }
  }
 },
 "nbformat": 4,
 "nbformat_minor": 2
}
