{
 "cells": [
  {
   "cell_type": "code",
   "execution_count": 4,
   "metadata": {},
   "outputs": [],
   "source": [
    "import pandas as pd\n",
    "import seaborn as sns\n",
    "import matplotlib.pyplot as plt\n",
    "import numpy as np"
   ]
  },
  {
   "attachments": {},
   "cell_type": "markdown",
   "metadata": {},
   "source": [
    "### Input Data"
   ]
  },
  {
   "cell_type": "code",
   "execution_count": 21,
   "metadata": {},
   "outputs": [
    {
     "data": {
      "text/html": [
       "<div>\n",
       "<style scoped>\n",
       "    .dataframe tbody tr th:only-of-type {\n",
       "        vertical-align: middle;\n",
       "    }\n",
       "\n",
       "    .dataframe tbody tr th {\n",
       "        vertical-align: top;\n",
       "    }\n",
       "\n",
       "    .dataframe thead th {\n",
       "        text-align: right;\n",
       "    }\n",
       "</style>\n",
       "<table border=\"1\" class=\"dataframe\">\n",
       "  <thead>\n",
       "    <tr style=\"text-align: right;\">\n",
       "      <th></th>\n",
       "      <th>PR</th>\n",
       "      <th>YEAR</th>\n",
       "      <th>LEGEND</th>\n",
       "      <th>N_SAMPLES</th>\n",
       "    </tr>\n",
       "  </thead>\n",
       "  <tbody>\n",
       "    <tr>\n",
       "      <th>0</th>\n",
       "      <td>223062</td>\n",
       "      <td>1985</td>\n",
       "      <td>Forest Formation</td>\n",
       "      <td>843</td>\n",
       "    </tr>\n",
       "    <tr>\n",
       "      <th>1</th>\n",
       "      <td>223062</td>\n",
       "      <td>1985</td>\n",
       "      <td>Non Observed</td>\n",
       "      <td>31</td>\n",
       "    </tr>\n",
       "    <tr>\n",
       "      <th>2</th>\n",
       "      <td>223062</td>\n",
       "      <td>1985</td>\n",
       "      <td>Pasture</td>\n",
       "      <td>139</td>\n",
       "    </tr>\n",
       "    <tr>\n",
       "      <th>3</th>\n",
       "      <td>223062</td>\n",
       "      <td>1986</td>\n",
       "      <td>Forest Formation</td>\n",
       "      <td>819</td>\n",
       "    </tr>\n",
       "    <tr>\n",
       "      <th>4</th>\n",
       "      <td>223062</td>\n",
       "      <td>1986</td>\n",
       "      <td>Non Observed</td>\n",
       "      <td>28</td>\n",
       "    </tr>\n",
       "    <tr>\n",
       "      <th>...</th>\n",
       "      <td>...</td>\n",
       "      <td>...</td>\n",
       "      <td>...</td>\n",
       "      <td>...</td>\n",
       "    </tr>\n",
       "    <tr>\n",
       "      <th>2090</th>\n",
       "      <td>231069</td>\n",
       "      <td>2021</td>\n",
       "      <td>Forest Formation</td>\n",
       "      <td>592</td>\n",
       "    </tr>\n",
       "    <tr>\n",
       "      <th>2091</th>\n",
       "      <td>231069</td>\n",
       "      <td>2021</td>\n",
       "      <td>Grassland</td>\n",
       "      <td>117</td>\n",
       "    </tr>\n",
       "    <tr>\n",
       "      <th>2092</th>\n",
       "      <td>231069</td>\n",
       "      <td>2021</td>\n",
       "      <td>Pasture</td>\n",
       "      <td>224</td>\n",
       "    </tr>\n",
       "    <tr>\n",
       "      <th>2093</th>\n",
       "      <td>231069</td>\n",
       "      <td>2021</td>\n",
       "      <td>Savanna Formation</td>\n",
       "      <td>98</td>\n",
       "    </tr>\n",
       "    <tr>\n",
       "      <th>2094</th>\n",
       "      <td>231069</td>\n",
       "      <td>2021</td>\n",
       "      <td>Wetland</td>\n",
       "      <td>59</td>\n",
       "    </tr>\n",
       "  </tbody>\n",
       "</table>\n",
       "<p>2095 rows × 4 columns</p>\n",
       "</div>"
      ],
      "text/plain": [
       "          PR  YEAR             LEGEND  N_SAMPLES\n",
       "0     223062  1985   Forest Formation        843\n",
       "1     223062  1985       Non Observed         31\n",
       "2     223062  1985            Pasture        139\n",
       "3     223062  1986   Forest Formation        819\n",
       "4     223062  1986       Non Observed         28\n",
       "...      ...   ...                ...        ...\n",
       "2090  231069  2021   Forest Formation        592\n",
       "2091  231069  2021          Grassland        117\n",
       "2092  231069  2021            Pasture        224\n",
       "2093  231069  2021  Savanna Formation         98\n",
       "2094  231069  2021            Wetland         59\n",
       "\n",
       "[2095 rows x 4 columns]"
      ]
     },
     "execution_count": 21,
     "metadata": {},
     "output_type": "execute_result"
    }
   ],
   "source": [
    "df_samples = pd.read_csv('../data/samples.csv')\n",
    "df_samples['ITEM'] = 1\n",
    "df_samples['PR'] = df_samples.apply(lambda serie: str(serie['PR']), 1)\n",
    "\n",
    "# n samples by PR\n",
    "df_samples_class = df_samples.groupby(by=['PR', 'YEAR','LEGEND']).count()\n",
    "df_samples_class = df_samples_class.reset_index().rename(columns={'Unnamed: 0': 'N_SAMPLES'})\n",
    "\n",
    "df_samples_class = df_samples_class[['PR', 'YEAR','LEGEND', 'N_SAMPLES']]\n",
    "\n",
    "\n",
    "# identificar PR com poucas amostras\n",
    "# identificar PR com amostras de classes com baixa representatividade\n",
    "\n",
    "# facegrid chart of PR with hue == classes"
   ]
  },
  {
   "attachments": {},
   "cell_type": "markdown",
   "metadata": {},
   "source": [
    "### Chart"
   ]
  },
  {
   "cell_type": "code",
   "execution_count": null,
   "metadata": {},
   "outputs": [],
   "source": []
  },
  {
   "cell_type": "code",
   "execution_count": 17,
   "metadata": {},
   "outputs": [
    {
     "data": {
      "text/plain": [
       "total             float64\n",
       "speeding          float64\n",
       "alcohol           float64\n",
       "not_distracted    float64\n",
       "no_previous       float64\n",
       "ins_premium       float64\n",
       "ins_losses        float64\n",
       "abbrev             object\n",
       "dtype: object"
      ]
     },
     "execution_count": 17,
     "metadata": {},
     "output_type": "execute_result"
    }
   ],
   "source": [
    "# Load the example car crash dataset\n",
    "crashes = sns.load_dataset(\"car_crashes\").sort_values(\"total\", ascending=False)\n"
   ]
  }
 ],
 "metadata": {
  "kernelspec": {
   "display_name": "base",
   "language": "python",
   "name": "python3"
  },
  "language_info": {
   "codemirror_mode": {
    "name": "ipython",
    "version": 3
   },
   "file_extension": ".py",
   "mimetype": "text/x-python",
   "name": "python",
   "nbconvert_exporter": "python",
   "pygments_lexer": "ipython3",
   "version": "3.9.13"
  },
  "orig_nbformat": 4,
  "vscode": {
   "interpreter": {
    "hash": "d94bb8fc3bda1ffaf99465d38a191dd2fae46908fc3a72044c3f96d12b63514c"
   }
  }
 },
 "nbformat": 4,
 "nbformat_minor": 2
}
