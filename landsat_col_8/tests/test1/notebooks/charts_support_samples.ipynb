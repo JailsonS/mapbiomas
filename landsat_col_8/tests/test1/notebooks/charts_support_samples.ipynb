{
 "cells": [
  {
   "cell_type": "code",
   "execution_count": 8,
   "metadata": {},
   "outputs": [],
   "source": [
    "import pandas as pd\n",
    "import seaborn as sns\n",
    "import matplotlib.pyplot as plt\n",
    "import numpy as np\n",
    "import os, sys"
   ]
  },
  {
   "attachments": {},
   "cell_type": "markdown",
   "metadata": {},
   "source": [
    "### Input Data"
   ]
  },
  {
   "cell_type": "code",
   "execution_count": 13,
   "metadata": {},
   "outputs": [
    {
     "data": {
      "text/html": [
       "<div>\n",
       "<style scoped>\n",
       "    .dataframe tbody tr th:only-of-type {\n",
       "        vertical-align: middle;\n",
       "    }\n",
       "\n",
       "    .dataframe tbody tr th {\n",
       "        vertical-align: top;\n",
       "    }\n",
       "\n",
       "    .dataframe thead th {\n",
       "        text-align: right;\n",
       "    }\n",
       "</style>\n",
       "<table border=\"1\" class=\"dataframe\">\n",
       "  <thead>\n",
       "    <tr style=\"text-align: right;\">\n",
       "      <th></th>\n",
       "      <th>classification</th>\n",
       "      <th>gv</th>\n",
       "      <th>gvs</th>\n",
       "      <th>soil</th>\n",
       "      <th>npv</th>\n",
       "      <th>ndfi</th>\n",
       "      <th>csfi</th>\n",
       "      <th>shade</th>\n",
       "      <th>tile</th>\n",
       "      <th>landsat_id_scene</th>\n",
       "      <th>year</th>\n",
       "    </tr>\n",
       "  </thead>\n",
       "  <tbody>\n",
       "    <tr>\n",
       "      <th>0</th>\n",
       "      <td>3</td>\n",
       "      <td>4209</td>\n",
       "      <td>4209</td>\n",
       "      <td>4209</td>\n",
       "      <td>4209</td>\n",
       "      <td>4209</td>\n",
       "      <td>4209</td>\n",
       "      <td>4209</td>\n",
       "      <td>4209</td>\n",
       "      <td>4209</td>\n",
       "      <td>4209</td>\n",
       "    </tr>\n",
       "    <tr>\n",
       "      <th>1</th>\n",
       "      <td>4</td>\n",
       "      <td>108</td>\n",
       "      <td>108</td>\n",
       "      <td>108</td>\n",
       "      <td>108</td>\n",
       "      <td>108</td>\n",
       "      <td>108</td>\n",
       "      <td>108</td>\n",
       "      <td>108</td>\n",
       "      <td>108</td>\n",
       "      <td>108</td>\n",
       "    </tr>\n",
       "    <tr>\n",
       "      <th>2</th>\n",
       "      <td>12</td>\n",
       "      <td>1571</td>\n",
       "      <td>1571</td>\n",
       "      <td>1571</td>\n",
       "      <td>1571</td>\n",
       "      <td>1571</td>\n",
       "      <td>1571</td>\n",
       "      <td>1571</td>\n",
       "      <td>1571</td>\n",
       "      <td>1571</td>\n",
       "      <td>1571</td>\n",
       "    </tr>\n",
       "    <tr>\n",
       "      <th>3</th>\n",
       "      <td>15</td>\n",
       "      <td>5</td>\n",
       "      <td>5</td>\n",
       "      <td>5</td>\n",
       "      <td>5</td>\n",
       "      <td>5</td>\n",
       "      <td>5</td>\n",
       "      <td>5</td>\n",
       "      <td>5</td>\n",
       "      <td>5</td>\n",
       "      <td>5</td>\n",
       "    </tr>\n",
       "    <tr>\n",
       "      <th>4</th>\n",
       "      <td>33</td>\n",
       "      <td>1272</td>\n",
       "      <td>1272</td>\n",
       "      <td>1272</td>\n",
       "      <td>1272</td>\n",
       "      <td>1272</td>\n",
       "      <td>1272</td>\n",
       "      <td>1272</td>\n",
       "      <td>1272</td>\n",
       "      <td>1272</td>\n",
       "      <td>1272</td>\n",
       "    </tr>\n",
       "  </tbody>\n",
       "</table>\n",
       "</div>"
      ],
      "text/plain": [
       "   classification    gv   gvs  soil   npv  ndfi  csfi  shade  tile  \\\n",
       "0               3  4209  4209  4209  4209  4209  4209   4209  4209   \n",
       "1               4   108   108   108   108   108   108    108   108   \n",
       "2              12  1571  1571  1571  1571  1571  1571   1571  1571   \n",
       "3              15     5     5     5     5     5     5      5     5   \n",
       "4              33  1272  1272  1272  1272  1272  1272   1272  1272   \n",
       "\n",
       "   landsat_id_scene  year  \n",
       "0              4209  4209  \n",
       "1               108   108  \n",
       "2              1571  1571  \n",
       "3                 5     5  \n",
       "4              1272  1272  "
      ]
     },
     "execution_count": 13,
     "metadata": {},
     "output_type": "execute_result"
    }
   ],
   "source": [
    "palette = {\n",
    "    'Forest Formation':'#006400', \n",
    "    'Pasture':'#ffd966', \n",
    "    'Agriculture':'#e974ed', \n",
    "    'Grassland':'#b8af4f',\n",
    "    'Savanna Formation':'#00ff00',\n",
    "    'Wetland':'#45c2a5' \n",
    "}\n",
    "\n",
    "classes = '\",\"'.join(list(dict(palette).keys()))\n",
    "\n",
    "df_support_samples = pd.read_csv(os.path.abspath('../data/support_samples/support_samples_2022_225060_1.csv'))\n",
    "df_support_samples['classification'] = df_support_samples['classification'].astype(int)\n",
    "\n",
    "water_grassland = df_support_samples.query('classification == 33 or classification == 12')\n",
    "\n",
    "df_support_samples = df_support_samples[[\"gv\", \"gvs\", \"soil\", \"npv\", \"ndfi\", \"csfi\", \"shade\",'classification', 'tile', 'landsat_id_scene', 'year']]\n",
    "\n",
    "df_support_samples.groupby(by=['classification']).count().reset_index()"
   ]
  },
  {
   "attachments": {},
   "cell_type": "markdown",
   "metadata": {},
   "source": [
    "### Transpose table"
   ]
  },
  {
   "cell_type": "code",
   "execution_count": 10,
   "metadata": {},
   "outputs": [],
   "source": [
    "pivot_table = pd.melt(\n",
    "    water_grassland, id_vars=['classification'], \n",
    "    value_vars=[\"gv\", \"gvs\", \"soil\", \"npv\", \"ndfi\", \"csfi\", \"shade\"])\n"
   ]
  },
  {
   "attachments": {},
   "cell_type": "markdown",
   "metadata": {},
   "source": [
    "### Chart"
   ]
  },
  {
   "cell_type": "code",
   "execution_count": 11,
   "metadata": {},
   "outputs": [
    {
     "data": {
      "image/png": "[encoded data removed]",
      "text/plain": [
       "<Figure size 1170x827 with 1 Axes>"
      ]
     },
     "metadata": {},
     "output_type": "display_data"
    }
   ],
   "source": [
    "sns.set_theme(style=\"ticks\", palette=\"pastel\")\n",
    "\n",
    "fig, ax = plt.subplots(figsize=(11.7, 8.27))\n",
    "\n",
    "# Draw a nested boxplot to show bills by day and time\n",
    "sns.boxplot(x=\"variable\", y=\"value\", ax=ax,\n",
    "            hue=\"classification\", palette=[\"m\", \"g\"],\n",
    "            data=pivot_table)\n",
    "sns.despine(offset=10, trim=True)"
   ]
  },
  {
   "cell_type": "code",
   "execution_count": 12,
   "metadata": {},
   "outputs": [
    {
     "ename": "NameError",
     "evalue": "name 'df_samples_used' is not defined",
     "output_type": "error",
     "traceback": [
      "\u001b[0;31m---------------------------------------------------------------------------\u001b[0m",
      "\u001b[0;31mNameError\u001b[0m                                 Traceback (most recent call last)",
      "Cell \u001b[0;32mIn[12], line 27\u001b[0m\n\u001b[1;32m     24\u001b[0m         df \u001b[39m=\u001b[39m df[(np\u001b[39m.\u001b[39mabs(stats\u001b[39m.\u001b[39mzscore(df[[\u001b[39m\"\u001b[39m\u001b[39mgv\u001b[39m\u001b[39m\"\u001b[39m, \u001b[39m\"\u001b[39m\u001b[39mgvs\u001b[39m\u001b[39m\"\u001b[39m, \u001b[39m\"\u001b[39m\u001b[39msoil\u001b[39m\u001b[39m\"\u001b[39m, \u001b[39m\"\u001b[39m\u001b[39mnpv\u001b[39m\u001b[39m\"\u001b[39m, \u001b[39m\"\u001b[39m\u001b[39mndfi\u001b[39m\u001b[39m\"\u001b[39m, \u001b[39m\"\u001b[39m\u001b[39mcsfi\u001b[39m\u001b[39m\"\u001b[39m, \u001b[39m\"\u001b[39m\u001b[39mshade\u001b[39m\u001b[39m\"\u001b[39m]])) \u001b[39m<\u001b[39m \u001b[39m3\u001b[39m)\u001b[39m.\u001b[39mall(axis\u001b[39m=\u001b[39m\u001b[39m1\u001b[39m)]\n\u001b[1;32m     25\u001b[0m         df_filtered \u001b[39m=\u001b[39m pd\u001b[39m.\u001b[39mconcat([df_filtered, df])\n\u001b[0;32m---> 27\u001b[0m df_samples_used\u001b[39m.\u001b[39mgroupby([\u001b[39m'\u001b[39m\u001b[39mclass\u001b[39m\u001b[39m'\u001b[39m])\u001b[39m.\u001b[39mcount()\u001b[39m.\u001b[39mreset_index()\n",
      "\u001b[0;31mNameError\u001b[0m: name 'df_samples_used' is not defined"
     ]
    }
   ],
   "source": [
    "import pandas as pd\n",
    "import numpy as np\n",
    "from scipy import stats\n",
    "\n",
    "images = df_support_samples['landsat_id_scene'].drop_duplicates().values\n",
    "classes = df_support_samples['classification'].drop_duplicates().values\n",
    "df_filtered = pd.DataFrame({\n",
    "    \"gv\":[], \n",
    "    \"gvs\":[], \n",
    "    \"soil\":[], \n",
    "    \"npv\":[], \n",
    "    \"ndfi\":[], \n",
    "    \"csfi\":[], \n",
    "    \"shade\":[],\n",
    "    \"classification\":[],\n",
    "    \"tile\":[],\n",
    "    \"landsat_id_scene\":[],\n",
    "    \"year\":[]\n",
    "})\n",
    "\n",
    "for img in images[:1]:\n",
    "    for c in classes:\n",
    "        df = df_support_samples.query('classification == {} and landsat_id_scene == \"{}\"'.format(c, img))\n",
    "        df = df[(np.abs(stats.zscore(df[[\"gv\", \"gvs\", \"soil\", \"npv\", \"ndfi\", \"csfi\", \"shade\"]])) < 3).all(axis=1)]\n",
    "        df_filtered = pd.concat([df_filtered, df])\n",
    "\n",
    "\n"
   ]
  },
  {
   "cell_type": "code",
   "execution_count": null,
   "metadata": {},
   "outputs": [],
   "source": []
  }
 ],
 "metadata": {
  "kernelspec": {
   "display_name": "base",
   "language": "python",
   "name": "python3"
  },
  "language_info": {
   "codemirror_mode": {
    "name": "ipython",
    "version": 3
   },
   "file_extension": ".py",
   "mimetype": "text/x-python",
   "name": "python",
   "nbconvert_exporter": "python",
   "pygments_lexer": "ipython3",
   "version": "3.9.16"
  },
  "orig_nbformat": 4,
  "vscode": {
   "interpreter": {
    "hash": "d94bb8fc3bda1ffaf99465d38a191dd2fae46908fc3a72044c3f96d12b63514c"
   }
  }
 },
 "nbformat": 4,
 "nbformat_minor": 2
}
